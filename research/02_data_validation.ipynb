{
 "cells": [
  {
   "cell_type": "code",
   "execution_count": 2,
   "metadata": {},
   "outputs": [],
   "source": [
    "import os "
   ]
  },
  {
   "cell_type": "code",
   "execution_count": 3,
   "metadata": {},
   "outputs": [
    {
     "data": {
      "text/plain": [
       "'d:\\\\Projects\\\\Machine-Learning-Project-with-MLflow-for-Wine-Quality-Prediction\\\\research'"
      ]
     },
     "execution_count": 3,
     "metadata": {},
     "output_type": "execute_result"
    }
   ],
   "source": [
    "%pwd"
   ]
  },
  {
   "cell_type": "code",
   "execution_count": 4,
   "metadata": {},
   "outputs": [],
   "source": [
    "os.chdir(\"../\")"
   ]
  },
  {
   "cell_type": "code",
   "execution_count": 5,
   "metadata": {},
   "outputs": [],
   "source": [
    "from dataclasses import dataclass\n",
    "from pathlib import Path\n",
    "\n",
    "@dataclass(frozen=True)\n",
    "class DataValidationConfig:\n",
    "    root_dir : Path\n",
    "    data_dir : Path\n",
    "    STATUS_FILE_PATH : Path\n",
    "    all_schema : dict\n"
   ]
  },
  {
   "cell_type": "code",
   "execution_count": 6,
   "metadata": {},
   "outputs": [],
   "source": [
    "from wineQuality.constants import *\n",
    "from wineQuality.utils.common import read_yaml  ,create_directories"
   ]
  },
  {
   "cell_type": "code",
   "execution_count": 8,
   "metadata": {},
   "outputs": [],
   "source": [
    "from wineQuality.constants import *\n",
    "from wineQuality.utils.common import read_yaml , get_data_from_mongodb ,create_directories\n",
    "\n",
    "class ConfigManager:\n",
    "    def __init__(\n",
    "        self , \n",
    "        config_file_path = CONFIG_FILE_PATH,\n",
    "        params_file_path = PARAMS_FILE_PATH,\n",
    "        schema_file_path = SCHEMA_FILE_PATH):\n",
    "\n",
    "        self.config = read_yaml(config_file_path)\n",
    "        self.params = read_yaml(params_file_path)\n",
    "        self.schema = read_yaml(schema_file_path)\n",
    "\n",
    "\n",
    "        create_directories([self.config.artifact_root])\n",
    "\n",
    "    def get_data_validation_config(self)->DataValidationConfig:\n",
    "        config = self.config.data_validation\n",
    "        schema = self.schema.COLUMNS\n",
    "\n",
    "        create_directories([config.root_dir])\n",
    "\n",
    "        data_validation_config = DataValidationConfig(\n",
    "\n",
    "            root_dir = config.root_dir,\n",
    "            data_dir= config.data_dir,\n",
    "            STATUS_FILE_PATH = config.STATUS_FILE_PATH,\n",
    "            all_schema=schema\n",
    "        )\n",
    "\n",
    "        return data_validation_config\n"
   ]
  },
  {
   "cell_type": "code",
   "execution_count": 9,
   "metadata": {},
   "outputs": [],
   "source": [
    "import os \n",
    "from  wineQuality import logger\n",
    "from wineQuality.utils.common import get_size\n",
    "import pandas as pd"
   ]
  },
  {
   "cell_type": "code",
   "execution_count": 10,
   "metadata": {},
   "outputs": [],
   "source": [
    "class DataValidation:\n",
    "\n",
    "    def __init__(self,data_validation_config : DataValidationConfig) :\n",
    "        self.config = data_validation_config\n",
    "\n",
    "    def initiate_validation(self) :\n",
    "\n",
    "        try: \n",
    "            validation_status = None\n",
    "\n",
    "            data = pd.read_csv(self.config.data_dir)\n",
    "            all_columns = list(data.columns)\n",
    "            all_schema = self.config.all_schema.keys()\n",
    "\n",
    "            for col in all_columns:\n",
    "                if col  not in all_schema:\n",
    "                    validation_status = False\n",
    "                    with open(self.config.STATUS_FILE_PATH , \"w\") as f:\n",
    "                        f.write(f\"validation status {validation_status}\")\n",
    "\n",
    "                else :\n",
    "                    validation_status = True \n",
    "                    with open(self.config.STATUS_FILE_PATH , \"w\") as f:\n",
    "                        f.write(f\"validation status {validation_status}\")\n",
    "            return validation_status\n",
    "\n",
    "        except Exception as e :\n",
    "            raise e\n"
   ]
  },
  {
   "cell_type": "code",
   "execution_count": 11,
   "metadata": {},
   "outputs": [
    {
     "name": "stdout",
     "output_type": "stream",
     "text": [
      "[2023-07-29 19:11:40,181: INFO: common: yaml file: D:\\Projects\\Machine-Learning-Project-with-MLflow-for-Wine-Quality-Prediction\\config\\config.yaml loaded successfully]\n",
      "[2023-07-29 19:11:40,194: INFO: common: yaml file: params.yaml loaded successfully]\n",
      "[2023-07-29 19:11:40,201: INFO: common: yaml file: schema.yaml loaded successfully]\n",
      "[2023-07-29 19:11:40,204: INFO: common: creating directory at : artifacts]\n",
      "[2023-07-29 19:11:40,206: INFO: common: creating directory at : artifacts/data_validation]\n"
     ]
    }
   ],
   "source": [
    "try :\n",
    "\n",
    "    config = ConfigManager()\n",
    "    data_validation_config = config.get_data_validation_config()\n",
    "    data_validation = DataValidation(data_validation_config= data_validation_config)\n",
    "    data_validation.initiate_validation()\n",
    "\n",
    "except  Exception as e:\n",
    "    raise e "
   ]
  },
  {
   "cell_type": "code",
   "execution_count": null,
   "metadata": {},
   "outputs": [],
   "source": []
  }
 ],
 "metadata": {
  "kernelspec": {
   "display_name": "Python 3",
   "language": "python",
   "name": "python3"
  },
  "language_info": {
   "codemirror_mode": {
    "name": "ipython",
    "version": 3
   },
   "file_extension": ".py",
   "mimetype": "text/x-python",
   "name": "python",
   "nbconvert_exporter": "python",
   "pygments_lexer": "ipython3",
   "version": "3.8.0"
  },
  "orig_nbformat": 4
 },
 "nbformat": 4,
 "nbformat_minor": 2
}
