{
 "cells": [
  {
   "cell_type": "code",
   "execution_count": 1,
   "metadata": {},
   "outputs": [],
   "source": [
    "import os "
   ]
  },
  {
   "cell_type": "code",
   "execution_count": 2,
   "metadata": {},
   "outputs": [
    {
     "data": {
      "text/plain": [
       "'d:\\\\Projects\\\\Machine-Learning-Project-with-MLflow-for-Wine-Quality-Prediction\\\\research'"
      ]
     },
     "execution_count": 2,
     "metadata": {},
     "output_type": "execute_result"
    }
   ],
   "source": [
    "%pwd"
   ]
  },
  {
   "cell_type": "code",
   "execution_count": 3,
   "metadata": {},
   "outputs": [],
   "source": [
    "os.chdir(\"../\")\n"
   ]
  },
  {
   "cell_type": "code",
   "execution_count": 4,
   "metadata": {},
   "outputs": [],
   "source": [
    "from dataclasses import dataclass\n",
    "from pathlib import Path\n",
    "\n",
    "@dataclass(frozen=True)\n",
    "class DataIngestionConfig:\n",
    "    root_dir : Path\n",
    "    local_csv_file_path : Path\n"
   ]
  },
  {
   "cell_type": "code",
   "execution_count": 5,
   "metadata": {},
   "outputs": [],
   "source": [
    "from wineQuality.constants import *\n",
    "from wineQuality.utils.common import read_yaml , get_data_from_mongodb ,create_directories"
   ]
  },
  {
   "cell_type": "code",
   "execution_count": 6,
   "metadata": {},
   "outputs": [],
   "source": [
    "from wineQuality.constants import *\n",
    "from wineQuality.utils.common import read_yaml , get_data_from_mongodb ,create_directories\n",
    "\n",
    "class ConfigManager:\n",
    "    def __init__(\n",
    "        self , \n",
    "        config_file_path = CONFIG_FILE_PATH,\n",
    "        params_file_path = PARAMS_FILE_PATH,\n",
    "        schema_file_path = SCHEMA_FILE_PATH):\n",
    "\n",
    "        self.config = read_yaml(config_file_path)\n",
    "        self.params = read_yaml(params_file_path)\n",
    "        self.schema = read_yaml(schema_file_path)\n",
    "\n",
    "\n",
    "        create_directories([self.config.artifact_root])\n",
    "\n",
    "    def get_data_ingestion_config(self)->DataIngestionConfig:\n",
    "        config = self.config.data_ingestion\n",
    "\n",
    "        create_directories([config.root_dir])\n",
    "\n",
    "        data_ingestion_config = DataIngestionConfig(\n",
    "\n",
    "            root_dir = config.root_dir,\n",
    "            local_csv_file_path = config.local_csv_file_path\n",
    "        )\n",
    "\n",
    "        return data_ingestion_config\n"
   ]
  },
  {
   "cell_type": "code",
   "execution_count": 7,
   "metadata": {},
   "outputs": [],
   "source": [
    "import os \n",
    "from  wineQuality import logger\n",
    "from wineQuality.utils.common import get_size\n",
    "import pandas as pd"
   ]
  },
  {
   "cell_type": "code",
   "execution_count": 8,
   "metadata": {},
   "outputs": [],
   "source": [
    "import os \n",
    "from  wineQuality import logger\n",
    "from wineQuality.utils.common import get_size\n",
    "import pandas as pd\n",
    "\n",
    "class DataIngestion:\n",
    "    def __init__(self , config : DataIngestionConfig):\n",
    "        self.config = config \n",
    "\n",
    "    def download_file_from_mongodb(self) :\n",
    "        if not os.path.exists(self.config.local_csv_file_path)  :\n",
    "\n",
    "            data = get_data_from_mongodb()\n",
    "            data.to_csv(self.config.local_csv_file_path)\n",
    "            \n",
    "            \n",
    "           \n",
    "            \n",
    "\n",
    "            #df = pd.read_csv(self.config.local_csv_file_path)\n",
    "            logger.info(f\"data has been downloaded from MongoDB {data}\")\n",
    "        else:  \n",
    "            logger.info(f\"File already exists of size {get_size(Path(self.config.local_csv_file_path))}\")\n",
    "            \n",
    "            \n",
    "\n",
    "\n"
   ]
  },
  {
   "cell_type": "code",
   "execution_count": 10,
   "metadata": {},
   "outputs": [
    {
     "name": "stdout",
     "output_type": "stream",
     "text": [
      "[2023-07-29 13:03:41,666: INFO: common: yaml file: D:\\Projects\\Machine-Learning-Project-with-MLflow-for-Wine-Quality-Prediction\\config\\config.yaml loaded successfully]\n",
      "[2023-07-29 13:03:41,669: INFO: common: yaml file: params.yaml loaded successfully]\n",
      "[2023-07-29 13:03:41,676: INFO: common: yaml file: schema.yaml loaded successfully]\n",
      "[2023-07-29 13:03:41,678: INFO: common: creating directory at : artifacts]\n",
      "[2023-07-29 13:03:41,681: INFO: common: creating directory at : artifacts/data_ingestion]\n",
      "[2023-07-29 13:03:41,684: INFO: 2537534454: File already exists of size ~ 107 KB]\n"
     ]
    }
   ],
   "source": [
    "try : \n",
    "    config = ConfigManager()\n",
    "    data_ingestion_config = config.get_data_ingestion_config()\n",
    "    data_ingestion = DataIngestion(config=data_ingestion_config)\n",
    "    data_ingestion.download_file_from_mongodb()\n",
    "except Exception as e:\n",
    "    raise e"
   ]
  },
  {
   "cell_type": "code",
   "execution_count": null,
   "metadata": {},
   "outputs": [],
   "source": [
    "\n",
    "\n",
    "\n",
    "\n",
    "\n",
    "\n",
    "\n"
   ]
  }
 ],
 "metadata": {
  "kernelspec": {
   "display_name": "Python 3",
   "language": "python",
   "name": "python3"
  },
  "language_info": {
   "codemirror_mode": {
    "name": "ipython",
    "version": 3
   },
   "file_extension": ".py",
   "mimetype": "text/x-python",
   "name": "python",
   "nbconvert_exporter": "python",
   "pygments_lexer": "ipython3",
   "version": "3.8.0"
  },
  "orig_nbformat": 4
 },
 "nbformat": 4,
 "nbformat_minor": 2
}
